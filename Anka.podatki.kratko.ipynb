{
 "cells": [
  {
   "cell_type": "code",
   "execution_count": null,
   "metadata": {},
   "outputs": [],
   "source": [
    "!pip install matplotlib\n",
    "!pip install pandas\n",
    "#!pip install xlrd\n",
    "!pip install openpyxl\n",
    "!pip install seaborn\n",
    "#!pip install --upgrade SciPy --user"
   ]
  },
  {
   "cell_type": "code",
   "execution_count": 1,
   "metadata": {},
   "outputs": [
    {
     "name": "stdout",
     "output_type": "stream",
     "text": [
      "hallo world\n"
     ]
    }
   ],
   "source": [
    "from __future__ import print_function\n",
    "from ipywidgets import interact, interactive, fixed, interact_manual\n",
    "%matplotlib inline\n",
    "import ipywidgets as widgets\n",
    "from typing import Tuple\n",
    "import numpy as np\n",
    "import matplotlib.pyplot as plt\n",
    "import matplotlib as mpl\n",
    "import pandas as pd\n",
    "import seaborn as sns\n",
    "import sys\n",
    "print(\"hallo world\")"
   ]
  },
  {
   "cell_type": "markdown",
   "metadata": {},
   "source": [
    "# Delujoči grafki spodaj:\n",
    "##to pa je običajno besedilo"
   ]
  },
  {
   "cell_type": "code",
   "execution_count": 11,
   "metadata": {},
   "outputs": [
    {
     "name": "stdout",
     "output_type": "stream",
     "text": [
      "Index(['kaj', 'sorta', 'skla', 'SL', 'Location', 'C-L', 'naziv', 'zaporedje',\n",
      "       'cryptochlorogenic acid', 'chlorogenic acid', 'catechin', 'epicatechin',\n",
      "       'arbutin', 'neochlorogenic acid', 'Phlorizin', 'Procyanidin B1',\n",
      "       'procyanidin B2_B4', 'Quercetin_13_1Rha', 'quercetin-13-1Glc_Gal',\n",
      "       'rutin', 'p_1coumaric acid', 'Phloretin Xylo Glc',\n",
      "       '3_1Hydroxyphloretin', '3_1hydroxy_1Phlorizin', 'cy3_1gal',\n",
      "       'Sum of hydroxycinnamic acids', 'Sum of dihydrochalcones',\n",
      "       'Sum of flavonols', 'Sum of flavan-3-ols', 'Arbutin '],\n",
      "      dtype='object')\n",
      "imamo analiz iz: ['meso' 'kožica' 'list']\n"
     ]
    },
    {
     "data": {
      "application/vnd.jupyter.widget-view+json": {
       "model_id": "076003d659e84a70843e02ed543794b5",
       "version_major": 2,
       "version_minor": 0
      },
      "text/plain": [
       "interactive(children=(Dropdown(description='kaj', index=1, options=('meso', 'kožica', 'list'), value='kožica')…"
      ]
     },
     "metadata": {},
     "output_type": "display_data"
    }
   ],
   "source": [
    "#delujoči multi interaktivni prikaz grafov. shrani grafke.\n",
    "#Anka = pd.read_excel (r\"P:\\OSVV\\Jablana\\2020\\Polifenoli-AC-JH\\Polifenoli Anka 18022020_imena.xlsx\", 0) #bere file\n",
    "Anka = pd.read_excel (r\"https://github.com/JozeHladnik/Majda/raw/main/Polifenoli.Anka.18022020_imena2.xlsx\", 0) #bere file\n",
    "#print(Anka.columns) #naredi array z imeni stolpcev - izberemo katere od teh podatkov želimo prikazati\n",
    "#nadaljujemo z ugotalvjanjem ukikatnih obravnavanj:\n",
    "#print(\"Stolpec meso - deli merjeni: \", end =\" \"); print(pd.unique(Anka[\"meso\"]))\n",
    "#print(\"Sorta: \", end =\" \"); print(pd.unique(Anka[\"sorta\"]))\n",
    "#print(pd.unique(Anka[\"čas\"]))\n",
    "#print(pd.unique(Anka[\"lokacija\"]))\n",
    "#print(pd.unique(Anka[\"C-L\"]))\n",
    "\n",
    "h=Anka.columns #naredi matriko z imeniprva vrstica za imena\n",
    "Anka1 = pd.DataFrame(Anka) #pretvori obliko v pandas\n",
    "#print(type(Anka)) #če je <class 'pandas.core.frame.DataFrame'> bo delal naprej\n",
    "print(h)\n",
    "\n",
    "Kaj=Anka['kaj'].unique()\n",
    "print('imamo analiz iz:',Kaj)\n",
    "##filtriraj podatke\n",
    "#meso = Anka.loc[(Anka['meso'] == 'meso') ]#  izloči kar ni zanimivo & (orders['Blok (Rimske I-VIII)'] == 'I')]\n",
    "#kozica = Anka.loc[(Anka['meso'] == 'kožica')]\n",
    "#list = Anka.loc[(Anka['meso'] == 'list')]\n",
    "#dva = Zid.loc[(Zid['IZLOCITI'] == 0) ] # izloci oznacene\n",
    "\n",
    "k = ['Sum of hydroxycinnamic acids',\n",
    "       'Sum of dihydrochalcones', 'Sum of flavonols', 'Sum of flavan-3-ols','cryptochlorogenic acid', 'chlorogenic acid', 'catechin', 'epicatechin',\n",
    "       'arbutin', 'neochlorogenic acid', 'Phlorizin', 'Procyanidin B1',\n",
    "       'procyanidin B2_B4', 'Quercetin_13_1Rha', 'quercetin3Glc_Gal', 'rutin',\n",
    "       'p_1coumaric acid', 'Phloretin Xylo Glc', '3_1Hydroxyphloretin',\n",
    "       '3_1hydroxy_1Phlorizin', 'cy3_1gal', 'Arbutin ', \n",
    "          ]\n",
    "df = pd.DataFrame(columns=k) #ustvari prazno tabelo za podatke iz loopov\n",
    "#Ank = meso\n",
    "\n",
    "def kAj(kaj='kožica'):\n",
    "    AnkaK = Anka.loc[(Anka['kaj'] == kaj)]\n",
    "    print('Location', AnkaK['Location'].unique())\n",
    "    print('skla',AnkaK['skla'].unique())\n",
    "    print('sorta',AnkaK['sorta'].unique())\n",
    "    izb=['Location', 'skla','sorta','naziv','C-L', None]\n",
    "    def izbor(X='sorta', HUE='Location'):\n",
    "        \n",
    "        def f(x='Sum of hydroxycinnamic acids'):\n",
    "         ll = AnkaK[x] #da kličemo vsak stolpec\n",
    "         nn = kaj + '-'+ ll.name +'.png'# naredimo string za poimenovanje datotek\n",
    "         InLop = AnkaK.loc[(AnkaK[x] > 0)] #izbere samo tiste ki so večje od 0 - izloči besedilo\n",
    "         #m = sum(InLop[x]) / len(InLop[x]) #povprečje\n",
    "         #print(m)\n",
    "         print(len(InLop[x]))\n",
    "         yy=InLop[x]\n",
    "          ## RIŠE BOXPLOT\n",
    "         #plt.close() #zapre vsak graf od prej\n",
    "         fig, ax = plt.subplots(figsize = (5.3,3))# spremeni velikost grafikona- zaradi spremembe velikosti pisave.\n",
    "         #with sns.plotting_context(font_scale=5.5):\n",
    "         sns.boxplot(x=X, y=yy, hue=HUE, data=InLop, ax=ax, palette=\"gray\")#.Za set_title(kaj)  #hue=\"meso\", palette=\"Set3\", \n",
    "        \n",
    "         plt.show() #prikaže vsak graf\n",
    "        #fig = bp.get_figure()  # da graf v objekt fig\n",
    "         print(nn)  # v  log izpiše ime grafa ki ga je naredil\n",
    "         fig.savefig(nn, dpi=300)  # shrani graf pod imenom \"nn\"\n",
    "         return x\n",
    "        interact(f, x=k);\n",
    "    interact(izbor, HUE=izb, X=izb);\n",
    "interact(kAj, kaj=Kaj);\n",
    "\n",
    "#delujoči multi interaktivni prikaz grafov. shrani grafke. -Izvoz Za ANKA\n",
    "    # za liste je kožico je spodaj z pikami\n",
    "    # za liste je OK\n",
    "    # za meso je potrebno dodati skladiščenje izberi HUE = CL in spremeniti vrstni red v tabeli!"
   ]
  },
  {
   "cell_type": "code",
   "execution_count": null,
   "metadata": {},
   "outputs": [],
   "source": []
  }
 ],
 "metadata": {
  "kernelspec": {
   "display_name": "Python 3",
   "language": "python",
   "name": "python3"
  },
  "language_info": {
   "codemirror_mode": {
    "name": "ipython",
    "version": 3
   },
   "file_extension": ".py",
   "mimetype": "text/x-python",
   "name": "python",
   "nbconvert_exporter": "python",
   "pygments_lexer": "ipython3",
   "version": "3.8.5"
  }
 },
 "nbformat": 4,
 "nbformat_minor": 2
}
