{
 "cells": [
  {
   "cell_type": "code",
   "execution_count": null,
   "metadata": {},
   "outputs": [],
   "source": [
    "# !pip install numpy\n",
    "# !pip install matplotlib\n",
    "# !pip install seaborn\n",
    "# !pip install statsmodels\n",
    "# !pip install openpyxl"
   ]
  },
  {
   "cell_type": "code",
   "execution_count": 8,
   "metadata": {},
   "outputs": [
    {
     "name": "stdout",
     "output_type": "stream",
     "text": [
      "hallo world\n"
     ]
    }
   ],
   "source": [
    "from __future__ import print_function\n",
    "from ipywidgets import interact, interactive, fixed, interact_manual\n",
    "#%matplotlib inline\n",
    "#import ipywidgets as widgets\n",
    "#from typing import Tuple\n",
    "import numpy as np\n",
    "import matplotlib.pyplot as plt\n",
    "#import matplotlib as mpl\n",
    "import pandas as pd\n",
    "import seaborn as sns\n",
    "from statsmodels.formula.api import ols\n",
    "import statsmodels.api as sa\n",
    "print(\"hallo world\")"
   ]
  },
  {
   "cell_type": "markdown",
   "metadata": {},
   "source": [
    "# To je delujoči več-izberni graf - spodaj dodajam še ANOVA in ?"
   ]
  },
  {
   "cell_type": "code",
   "execution_count": 11,
   "metadata": {},
   "outputs": [
    {
     "name": "stdout",
     "output_type": "stream",
     "text": [
      "637\n"
     ]
    },
    {
     "data": {
      "application/vnd.jupyter.widget-view+json": {
       "model_id": "60b5da6498ce462ba90d71fff2c19d87",
       "version_major": 2,
       "version_minor": 0
      },
      "text/plain": [
       "interactive(children=(Dropdown(description='izloči', options=('vse', 'IZLOCITI', 'izloci'), value='vse'), Outp…"
      ]
     },
     "metadata": {},
     "output_type": "display_data"
    }
   ],
   "source": [
    "#dodana večfaktroska ANOVA ki odraža izbero!!!!\n",
    "\n",
    "xx =  ['obr', 'blok', 'LD', 'parc','st_drev','']\n",
    "hue = ['LD','obr', 'blok',  'parc','st_drev',None]\n",
    "\n",
    "Zid = pd.read_excel (r\"https://github.com/JozeHladnik/Majda/raw/main/Vsi%20podatki%20zdruzeni-brez%20pik%20in%20st.xlsx\", 0) #bere file\n",
    "#print(Zid.columns)    -Vsi podatki zdruzeni-brez pik in st.xlsx\n",
    "print(len(Zid.index))\n",
    "y = Zid.columns[5:]\n",
    "\n",
    "parc = pd.unique(Zid[\"parc\"])\n",
    "\n",
    "izl= ['vse','IZLOCITI','izloci']\n",
    "#Zid1=Zid\n",
    "def f(izloči):\n",
    "    Zid1=Zid.loc[Zid[izloči] == 0 ]\n",
    "    print('ostalo v obravnavi', len(Zid1.index))\n",
    "    def f(x, y, hue):\n",
    "        Zid2=Zid1.loc[Zid1[y] > 0] # naredi da se upoštevajo samo celice ki imajo podatek(ni nič ali beseda)\n",
    "        print('ostalo v obravnavi', len(Zid2.index)) # izpiše koliko vrstic je ostalo v obdelavi\n",
    "        fig, ax = plt.subplots()\n",
    "        sns.boxplot(x=x, y=y, hue=hue, data=Zid2, palette=\"Set3\", ax=ax)  #hue=\"meso\",\n",
    "        nn = 'ZidariC'+x+hue+'_za_'+y+'_z izločitvijo_'+izloči+ '.png'\n",
    "        fig.savefig(nn, dpi=300)\n",
    "        plt.show() #prikaže vsak graf\n",
    " ## od tu naprej dodajam LM model\n",
    "        #model = ols('{} ~ obr'.format(y), data=Zid2).fit()\n",
    "        model = ols('{} ~ C({}) + C({}) + C({}):C({})'.format(y,x,hue,x,hue), data=Zid2).fit()\n",
    "        print('---ANOVA za: \"', y, '\"')\n",
    "        anova_table = sa.stats.anova_lm(model, typ=2)\n",
    "        print(anova_table)\n",
    "        print('---Še povprečja za:')\n",
    "        print(Zid.groupby(x).agg({y:['mean','median','std', 'min', 'max']})) \n",
    "    interact(f,x=xx, y=y, hue=hue);\n",
    "interact(f,izloči=izl);"
   ]
  },
  {
   "cell_type": "code",
   "execution_count": null,
   "metadata": {},
   "outputs": [],
   "source": []
  }
 ],
 "metadata": {
  "kernelspec": {
   "display_name": "Python 3",
   "language": "python",
   "name": "python3"
  },
  "language_info": {
   "codemirror_mode": {
    "name": "ipython",
    "version": 3
   },
   "file_extension": ".py",
   "mimetype": "text/x-python",
   "name": "python",
   "nbconvert_exporter": "python",
   "pygments_lexer": "ipython3",
   "version": "3.7.3"
  }
 },
 "nbformat": 4,
 "nbformat_minor": 4
}
