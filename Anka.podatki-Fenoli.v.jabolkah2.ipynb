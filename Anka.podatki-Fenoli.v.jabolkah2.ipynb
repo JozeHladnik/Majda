{
 "cells": [
  {
   "cell_type": "code",
   "execution_count": 1,
   "metadata": {},
   "outputs": [
    {
     "name": "stdout",
     "output_type": "stream",
     "text": [
      "hallo world\n"
     ]
    }
   ],
   "source": [
    "from __future__ import print_function\n",
    "from ipywidgets import interact, interactive, fixed, interact_manual\n",
    "%matplotlib inline\n",
    "import ipywidgets as widgets\n",
    "from typing import Tuple\n",
    "import numpy as np\n",
    "import matplotlib.pyplot as plt\n",
    "import matplotlib as mpl\n",
    "import pandas as pd\n",
    "import seaborn as sns\n",
    "import sys\n",
    "print(\"hallo world\")"
   ]
  },
  {
   "cell_type": "code",
   "execution_count": 8,
   "metadata": {},
   "outputs": [
    {
     "data": {
      "application/vnd.jupyter.widget-view+json": {
       "model_id": "3913c7f214d4446fa2b113383206999f",
       "version_major": 2,
       "version_minor": 0
      },
      "text/plain": [
       "interactive(children=(Dropdown(description='x', options=('cryptochlorogenic acid', 'chlorogenic acid', 'catech…"
      ]
     },
     "metadata": {},
     "output_type": "display_data"
    }
   ],
   "source": [
    "Anka = pd.read_excel (r\"https://github.com/JozeHladnik/Majda/raw/main/Polifenoli.Anka.18022020_imena2.xlsx\", 0) #bere file\n",
    "#print(Anka.columns) #naredi array z imeni stolpcev - izberemo katere od teh podatkov želimo prikazati\n",
    "#nadaljujemo z ugotalvjanjem ukikatnih obravnavanj:\n",
    "#print(\"Stolpec meso - deli merjeni: \", end =\" \"); print(pd.unique(Anka[\"meso\"]))\n",
    "#print(\"Sorta: \", end =\" \"); print(pd.unique(Anka[\"sorta\"]))\n",
    "#print(pd.unique(Anka[\"čas\"]))\n",
    "#print(pd.unique(Anka[\"lokacija\"]))\n",
    "#print(pd.unique(Anka[\"C-L\"]))\n",
    "\n",
    "h=Anka.columns #naredi matriko z imeniprva vrstica za imena\n",
    "Anka1 = pd.DataFrame(Anka) #pretvori obliko v pandas\n",
    "#print(type(Anka)) #če je <class 'pandas.core.frame.DataFrame'> bo delal naprej\n",
    "#print(h)\n",
    "##filtriraj podatke\n",
    "#meso = Anka.loc[(Anka['meso'] == 'meso') ]#  izloči kar ni zanimivo & (orders['Blok (Rimske I-VIII)'] == 'I')]\n",
    "#kozica = Anka.loc[(Anka['meso'] == 'kožica')]\n",
    "#list = Anka.loc[(Anka['meso'] == 'list')]\n",
    "#dva = Zid.loc[(Zid['IZLOCITI'] == 0) ] # izloci oznacene\n",
    "\n",
    "k = ['cryptochlorogenic acid', 'chlorogenic acid', 'catechin', 'epicatechin', 'neochlorogenic acid', 'Phlorizin', 'Procyanidin B1',\n",
    "       'procyanidin B2_B4', 'Quercetin_13_1Rha', 'quercetin-13-1Glc_Gal',\n",
    "       'p_1coumaric acid', 'Phloretin Xylo Glc',\n",
    "       #'3_1Hydroxyphloretin',\n",
    "       '3_1hydroxy_1Phlorizin', 'sum of hydroxycinnamic acids', 'sum of dihydrochalcones',\n",
    "       'sum of flavonols', 'sum of flavanols' #'cy3_1gal'] #izberemo katere parametre želimo računati - Glej kaj natisne \"h\"\n",
    "        ]\n",
    "df = pd.DataFrame(columns=k) #ustvari prazno tabelo za podatke iz loopov\n",
    "Ank = Anka\n",
    "\n",
    "\n",
    "\n",
    "def f(x):\n",
    "    ll = Ank[x] #da kličemo vsak stolpec\n",
    "    nn = 'test.' + ll.name +'.png'# naredimo string za poimenovanje datotek\n",
    "    InLop = Ank.loc[(Ank[x] > 0)] #izbere samo tiste ki so večje od 0 - izloči besedilo\n",
    "   #m = sum(InLop[x]) / len(InLop[x]) #povprečje\n",
    "   #print(m)\n",
    "    print(len(InLop[x]))\n",
    "    yy=InLop[x]\n",
    "     ## RIŠE BOXPLOT\n",
    "#plt.close() #zapre vsak graf od prej\n",
    "    fig, ax = plt.subplots()\n",
    "    sns.boxplot(x=\"sorta\", y=yy, hue=\"C-L\", data=InLop, palette=\"Set3\", ax=ax)  #hue=\"meso\",\n",
    "    plt.show() #prikaže vsak graf\n",
    "   #fig = bp.get_figure()  # da graf v objekt fig\n",
    "    print(nn)  # v  log izpiše ime grafa ki ga je naredil\n",
    "   #fig.savefig(nn)  # shrani graf pod imenom \"nn\"\n",
    "    return x\n",
    "interact(f, x=k);\n",
    "\n"
   ]
  },
  {
   "cell_type": "markdown",
   "metadata": {},
   "source": [
    "# Delujoči grafki spodaj:\n",
    "##to pa je običajno besedilo"
   ]
  },
  {
   "cell_type": "code",
   "execution_count": 11,
   "metadata": {},
   "outputs": [
    {
     "name": "stdout",
     "output_type": "stream",
     "text": [
      "Index(['kaj', 'sorta', 'skla', 'SL', 'Location', 'C-L', 'naziv', 'zaporedje',\n",
      "       'cryptochlorogenic acid', 'chlorogenic acid', 'catechin', 'epicatechin',\n",
      "       'arbutin', 'neochlorogenic acid', 'Phlorizin', 'Procyanidin B1',\n",
      "       'procyanidin B2_B4', 'Quercetin_13_1Rha', 'quercetin-13-1Glc_Gal',\n",
      "       'rutin', 'p_1coumaric acid', 'Phloretin Xylo Glc',\n",
      "       '3_1Hydroxyphloretin', '3_1hydroxy_1Phlorizin', 'cy3_1gal',\n",
      "       'Sum of hydroxycinnamic acids', 'Sum of dihydrochalcones',\n",
      "       'Sum of flavonols', 'Sum of flavan-3-ols', 'Arbutin '],\n",
      "      dtype='object')\n",
      "imamo analiz iz: ['meso' 'kožica' 'list']\n"
     ]
    },
    {
     "data": {
      "application/vnd.jupyter.widget-view+json": {
       "model_id": "076003d659e84a70843e02ed543794b5",
       "version_major": 2,
       "version_minor": 0
      },
      "text/plain": [
       "interactive(children=(Dropdown(description='kaj', index=1, options=('meso', 'kožica', 'list'), value='kožica')…"
      ]
     },
     "metadata": {},
     "output_type": "display_data"
    }
   ],
   "source": [
    "#delujoči multi interaktivni prikaz grafov. shrani grafke.\n",
    "#Anka = pd.read_excel (r\"P:\\OSVV\\Jablana\\2020\\Polifenoli-AC-JH\\Polifenoli Anka 18022020_imena.xlsx\", 0) #bere file\n",
    "Anka = pd.read_excel (r\"https://github.com/JozeHladnik/Majda/raw/main/Polifenoli.Anka.18022020_imena2.xlsx\", 0) #bere file\n",
    "#print(Anka.columns) #naredi array z imeni stolpcev - izberemo katere od teh podatkov želimo prikazati\n",
    "#nadaljujemo z ugotalvjanjem ukikatnih obravnavanj:\n",
    "#print(\"Stolpec meso - deli merjeni: \", end =\" \"); print(pd.unique(Anka[\"meso\"]))\n",
    "#print(\"Sorta: \", end =\" \"); print(pd.unique(Anka[\"sorta\"]))\n",
    "#print(pd.unique(Anka[\"čas\"]))\n",
    "#print(pd.unique(Anka[\"lokacija\"]))\n",
    "#print(pd.unique(Anka[\"C-L\"]))\n",
    "\n",
    "h=Anka.columns #naredi matriko z imeniprva vrstica za imena\n",
    "Anka1 = pd.DataFrame(Anka) #pretvori obliko v pandas\n",
    "#print(type(Anka)) #če je <class 'pandas.core.frame.DataFrame'> bo delal naprej\n",
    "print(h)\n",
    "\n",
    "Kaj=Anka['kaj'].unique()\n",
    "print('imamo analiz iz:',Kaj)\n",
    "##filtriraj podatke\n",
    "#meso = Anka.loc[(Anka['meso'] == 'meso') ]#  izloči kar ni zanimivo & (orders['Blok (Rimske I-VIII)'] == 'I')]\n",
    "#kozica = Anka.loc[(Anka['meso'] == 'kožica')]\n",
    "#list = Anka.loc[(Anka['meso'] == 'list')]\n",
    "#dva = Zid.loc[(Zid['IZLOCITI'] == 0) ] # izloci oznacene\n",
    "\n",
    "k = ['Sum of hydroxycinnamic acids',\n",
    "       'Sum of dihydrochalcones', 'Sum of flavonols', 'Sum of flavan-3-ols','cryptochlorogenic acid', 'chlorogenic acid', 'catechin', 'epicatechin',\n",
    "       'arbutin', 'neochlorogenic acid', 'Phlorizin', 'Procyanidin B1',\n",
    "       'procyanidin B2_B4', 'Quercetin_13_1Rha', 'quercetin3Glc_Gal', 'rutin',\n",
    "       'p_1coumaric acid', 'Phloretin Xylo Glc', '3_1Hydroxyphloretin',\n",
    "       '3_1hydroxy_1Phlorizin', 'cy3_1gal', 'Arbutin ', \n",
    "          ]\n",
    "df = pd.DataFrame(columns=k) #ustvari prazno tabelo za podatke iz loopov\n",
    "#Ank = meso\n",
    "\n",
    "def kAj(kaj='kožica'):\n",
    "    AnkaK = Anka.loc[(Anka['kaj'] == kaj)]\n",
    "    print('Location', AnkaK['Location'].unique())\n",
    "    print('skla',AnkaK['skla'].unique())\n",
    "    print('sorta',AnkaK['sorta'].unique())\n",
    "    izb=['Location', 'skla','sorta','naziv','C-L', None]\n",
    "    def izbor(X='sorta', HUE='Location'):\n",
    "        \n",
    "        def f(x='Sum of hydroxycinnamic acids'):\n",
    "         ll = AnkaK[x] #da kličemo vsak stolpec\n",
    "         nn = kaj + '-'+ ll.name +'.png'# naredimo string za poimenovanje datotek\n",
    "         InLop = AnkaK.loc[(AnkaK[x] > 0)] #izbere samo tiste ki so večje od 0 - izloči besedilo\n",
    "         #m = sum(InLop[x]) / len(InLop[x]) #povprečje\n",
    "         #print(m)\n",
    "         print(len(InLop[x]))\n",
    "         yy=InLop[x]\n",
    "          ## RIŠE BOXPLOT\n",
    "         #plt.close() #zapre vsak graf od prej\n",
    "         fig, ax = plt.subplots(figsize = (5.3,3))# spremeni velikost grafikona- zaradi spremembe velikosti pisave.\n",
    "         #with sns.plotting_context(font_scale=5.5):\n",
    "         sns.boxplot(x=X, y=yy, hue=HUE, data=InLop, ax=ax, palette=\"gray\")#.Za set_title(kaj)  #hue=\"meso\", palette=\"Set3\", \n",
    "        \n",
    "         plt.show() #prikaže vsak graf\n",
    "        #fig = bp.get_figure()  # da graf v objekt fig\n",
    "         print(nn)  # v  log izpiše ime grafa ki ga je naredil\n",
    "         fig.savefig(nn, dpi=300)  # shrani graf pod imenom \"nn\"\n",
    "         return x\n",
    "        interact(f, x=k);\n",
    "    interact(izbor, HUE=izb, X=izb);\n",
    "interact(kAj, kaj=Kaj);\n",
    "\n",
    "#delujoči multi interaktivni prikaz grafov. shrani grafke. -Izvoz Za ANKA\n",
    "    # za liste je kožico je spodaj z pikami\n",
    "    # za liste je OK\n",
    "    # za meso je potrebno dodati skladiščenje izberi HUE = CL in spremeniti vrstni red v tabeli!"
   ]
  },
  {
   "cell_type": "code",
   "execution_count": 12,
   "metadata": {},
   "outputs": [
    {
     "name": "stdout",
     "output_type": "stream",
     "text": [
      "Index(['kaj', 'sorta', 'skla', 'SL', 'Location', 'C-L', 'naziv', 'zaporedje',\n",
      "       'cryptochlorogenic acid', 'chlorogenic acid', 'catechin', 'epicatechin',\n",
      "       'arbutin', 'neochlorogenic acid', 'Phlorizin', 'Procyanidin B1',\n",
      "       'procyanidin B2_B4', 'Quercetin_13_1Rha', 'quercetin-13-1Glc_Gal',\n",
      "       'rutin', 'p_1coumaric acid', 'Phloretin Xylo Glc',\n",
      "       '3_1Hydroxyphloretin', '3_1hydroxy_1Phlorizin', 'cy3_1gal',\n",
      "       'Sum of hydroxycinnamic acids', 'Sum of dihydrochalcones',\n",
      "       'Sum of flavonols', 'Sum of flavan-3-ols', 'Arbutin '],\n",
      "      dtype='object')\n",
      "imamo analiz iz: ['meso' 'kožica' 'list']\n"
     ]
    },
    {
     "data": {
      "application/vnd.jupyter.widget-view+json": {
       "model_id": "ba2cba605270450f942f4dc53e98b21c",
       "version_major": 2,
       "version_minor": 0
      },
      "text/plain": [
       "interactive(children=(Dropdown(description='kaj', index=1, options=('meso', 'kožica', 'list'), value='kožica')…"
      ]
     },
     "metadata": {},
     "output_type": "display_data"
    }
   ],
   "source": [
    "#Isto kjot zgoraj le da scatter plot za kožico\n",
    "#Anka = pd.read_excel (r\"P:\\OSVV\\Jablana\\2020\\Polifenoli-AC-JH\\Polifenoli Anka 18022020_imena2.xlsx\", 0) #bere file\n",
    "Anka = pd.read_excel (r\"https://github.com/JozeHladnik/Majda/raw/main/Polifenoli.Anka.18022020_imena2.xlsx\", 0) #bere file\n",
    "\n",
    "h=Anka.columns #naredi matriko z imeniprva vrstica za imena\n",
    "Anka1 = pd.DataFrame(Anka) \n",
    "print(h)\n",
    "\n",
    "Kaj=Anka['kaj'].unique()\n",
    "print('imamo analiz iz:',Kaj)\n",
    "\n",
    "# uporabimo od zgoraj   k = \n",
    "df = pd.DataFrame(columns=k) #ustvari prazno tabelo za podatke iz loopov\n",
    "#Ank = meso\n",
    "\n",
    "def kAj(kaj='kožica'):\n",
    "    AnkaK = Anka.loc[(Anka['kaj'] == kaj)]\n",
    "    print('Location', AnkaK['Location'].unique())\n",
    "    print('skla',AnkaK['skla'].unique())\n",
    "    print('sorta',AnkaK['sorta'].unique())\n",
    "    izb=['Location', 'skla','sorta','naziv','C-L', 'SL', None]\n",
    "    def izbor(X='SL', HUE='Location'):\n",
    "        \n",
    "        def f(x='Sum of hydroxycinnamic acids'):\n",
    "         ll = AnkaK[x] #da kličemo vsak stolpec\n",
    "         nn = kaj + '-'+ ll.name +'.png'# naredimo string za poimenovanje datotek\n",
    "         InLop = AnkaK.loc[(AnkaK[x] > 0)] #izbere samo tiste ki so večje od 0 - izloči besedilo\n",
    "         \n",
    "         print(len(InLop[x]))\n",
    "         yy=InLop[x]\n",
    "          ## RIŠE BOXPLOT\n",
    "         #plt.close() #zapre vsak graf od prej\n",
    "         fig, ax = plt.subplots(figsize = (5.3,3)) # spremenimo vleikost izhodnega grafa.\n",
    "         #with sns.plotting_context(font_scale=5.5):\n",
    "#          plt.scatter(InLop['SL'], InLop[yy], s=None, c=None, marker=None, cmap=None, norm=None, \n",
    "#                      vmin=None, vmax=None, alpha=None, linewidths=None,\n",
    "#                      edgecolors=None, plotnonfinite=False, data=None)#.set_title(kaj)  #hue=\"meso\", palette=\"Set3\", \n",
    "         sns.scatterplot(x=X, y=yy, data=InLop)#, ax=ax)#, palette=[\"black\"])#.set_title(kaj)  #hue=\"meso\", palette=\"Set3\", \n",
    "         #plt.show() #prikaže vsak graf\n",
    "         print(nn)  # v  log izpiše ime grafa ki ga je naredil\n",
    "         fig.savefig(nn, dpi=300)  # shrani graf pod imenom \"nn\"\n",
    "         return x\n",
    "        interact(f, x=k);\n",
    "    interact(izbor, HUE=izb, X=izb);\n",
    "interact(kAj, kaj=Kaj);\n",
    "\n",
    "#Scater za kožico"
   ]
  },
  {
   "cell_type": "code",
   "execution_count": 13,
   "metadata": {},
   "outputs": [
    {
     "name": "stdout",
     "output_type": "stream",
     "text": [
      "Index(['kaj', 'sorta', 'skla', 'SL', 'Location', 'C-L', 'naziv', 'zaporedje',\n",
      "       'cryptochlorogenic acid', 'chlorogenic acid', 'catechin', 'epicatechin',\n",
      "       'arbutin', 'neochlorogenic acid', 'Phlorizin', 'Procyanidin B1',\n",
      "       'procyanidin B2_B4', 'Quercetin_13_1Rha', 'quercetin-13-1Glc_Gal',\n",
      "       'rutin', 'p_1coumaric acid', 'Phloretin Xylo Glc',\n",
      "       '3_1Hydroxyphloretin', '3_1hydroxy_1Phlorizin', 'cy3_1gal',\n",
      "       'Sum of hydroxycinnamic acids', 'Sum of dihydrochalcones',\n",
      "       'Sum of flavonols', 'Sum of flavan-3-ols', 'Arbutin '],\n",
      "      dtype='object')\n",
      "imamo analiz iz: ['meso' 'kožica' 'list']\n"
     ]
    },
    {
     "data": {
      "application/vnd.jupyter.widget-view+json": {
       "model_id": "04cf912f5912407db065a9c6c9e08d43",
       "version_major": 2,
       "version_minor": 0
      },
      "text/plain": [
       "interactive(children=(Dropdown(description='kaj', options=('meso', 'kožica', 'list'), value='meso'), Output())…"
      ]
     },
     "metadata": {},
     "output_type": "display_data"
    }
   ],
   "source": [
    "#dodana ANOVA # dodal podčrtaje zato je ..3.xlsx\n",
    "import statsmodels\n",
    "import statsmodels.api as sm\n",
    "from statsmodels.formula.api import ols\n",
    "import statsmodels.stats.multicomp as mc\n",
    "\n",
    "#Anka = pd.read_excel (r\"P:\\OSVV\\Jablana\\2020\\Polifenoli-AC-JH\\Polifenoli Anka 18022020_3.xlsx\", 0) #bere file\n",
    "Anka = pd.read_excel (r\"https://github.com/JozeHladnik/Majda/raw/main/Polifenoli.Anka.18022020_imena2.xlsx\", 0) #bere file\n",
    "\n",
    "h=Anka.columns #naredi matriko z imeniprva vrstica za imena\n",
    "Anka1 = pd.DataFrame(Anka) #pretvori obliko v pandas\n",
    "print(h)\n",
    "\n",
    "Kaj=Anka['kaj'].unique()\n",
    "print('imamo analiz iz:',Kaj)\n",
    "\n",
    "k = ['Sum of hydroxycinnamic acids',\n",
    "       'Sum of dihydrochalcones', 'Sum of flavonols', 'Sum of flavanols','cryptochlorogenic acid', 'chlorogenic acid', 'catechin', 'epicatechin',\n",
    "       'arbutin', 'neochlorogenic acid', 'Phlorizin', 'Procyanidin B1',\n",
    "       'procyanidin B2_B4', 'Quercetin_13_1Rha', 'quercetin3Glc_Gal', 'rutin',\n",
    "       'p_1coumaric acid', 'Phloretin Xylo Glc', '3_1Hydroxyphloretin',\n",
    "       '3_1hydroxy_1Phlorizin', 'cy3_1gal', \n",
    "          ]\n",
    "df = pd.DataFrame(columns=k) #ustvari prazno tabelo za podatke iz loopov\n",
    "#Ank = meso\n",
    "\n",
    "def kAj(kaj):\n",
    "    AnkaK = Anka.loc[(Anka['kaj'] == kaj)]\n",
    "    print('lok', AnkaK['lok'].unique())\n",
    "    print('skla',AnkaK['skla'].unique())\n",
    "    print('sorta',AnkaK['sorta'].unique())\n",
    "    izb=['lok', 'skla','sorta','naziv','C-L', None]\n",
    "    def izbor(X='lok', HUE='sorta'):\n",
    "        \n",
    "        def f(x):\n",
    "         ll = AnkaK[x] #da kličemo vsak stolpec\n",
    "         nn = kaj + '-'+ ll.name +'.png'# naredimo string za poimenovanje datotek\n",
    "         InLop = AnkaK.loc[(AnkaK[x] > 0)] #izbere samo tiste ki so večje od 0 - izloči besedilo\n",
    "         #m = sum(InLop[x]) / len(InLop[x]) #povprečje\n",
    "         #print(m)\n",
    "         print(len(InLop[x]))\n",
    "         yy=InLop[x]\n",
    "          ## RIŠE BOXPLOT\n",
    "         #plt.close() #zapre vsak graf od prej\n",
    "         fig, ax = plt.subplots()\n",
    "         sns.boxplot(x=X, y=yy, hue=HUE, data=InLop, ax=ax, palette=\"gray\").set_title(kaj)  #hue=\"meso\", palette=\"Set3\", \n",
    "         xOs=InLop[X] \n",
    "         Hue=InLop[HUE]        \n",
    "         plt.show() #prikaže vsak graf\n",
    "        #fig = bp.get_figure()  # da graf v objekt fig\n",
    "         #print(a)\n",
    "         #print(b)\n",
    "         model1=ols('yy ~ C(xOs) + C(Hue) + C(xOs):C(Hue)', data=InLop).fit()\n",
    "         print(model1)\n",
    "         anova = sm.stats.anova_lm(model1, typ=1)\n",
    "         print(color.BOLD + 'Anova tabela za ',kaj,', kjer je xOs=\"',X,'\" in Hue=\"', HUE,'\". '   )\n",
    "         print(anova)\n",
    "         print('Slika shranjena kot:' ,nn)  # v  log izpiše ime grafa ki ga je naredil\n",
    "         fig.savefig(nn, dpi=300)  # shrani graf pod imenom \"nn\"\n",
    "         return x\n",
    "        interact(f, x=k);\n",
    "    interact(izbor, HUE=izb, X=izb);\n",
    "interact(kAj, kaj=Kaj);\n",
    "\n",
    "#dodana ANOVA"
   ]
  },
  {
   "cell_type": "code",
   "execution_count": 4,
   "metadata": {},
   "outputs": [
    {
     "name": "stdout",
     "output_type": "stream",
     "text": [
      "Index(['kaj', 'sorta', 'skla', 'Location', 'C-L', 'naziv', 'zaporedje',\n",
      "       'cryptochlorogenic acid', 'chlorogenic acid', 'catechin', 'epicatechin',\n",
      "       'neochlorogenic acid', 'Phlorizin', 'Procyanidin B1',\n",
      "       'procyanidin B2_B4', 'Quercetin_13_1Rha', 'quercetin-13-1Glc_Gal',\n",
      "       'rutin', 'p_1coumaric acid', 'Phloretin Xylo Glc',\n",
      "       '3_1Hydroxyphloretin', '3_1hydroxy_1Phlorizin', 'cy3_1gal',\n",
      "       'Sum of hydroxycinnamic acids', 'Sum of dihydrochalcones',\n",
      "       'Sum of flavonols', 'Sum of flavanols'],\n",
      "      dtype='object')\n",
      "imamo analiz iz: ['meso' 'kožica' 'list']\n"
     ]
    },
    {
     "data": {
      "application/vnd.jupyter.widget-view+json": {
       "model_id": "795937f172f14432b242a40624900e81",
       "version_major": 2,
       "version_minor": 0
      },
      "text/plain": [
       "interactive(children=(Dropdown(description='kaj', options=('meso', 'kožica', 'list'), value='meso'), Output())…"
      ]
     },
     "metadata": {},
     "output_type": "display_data"
    }
   ],
   "source": [
    "#dodan post-hoc # \n",
    "import statsmodels.stats.multicomp as mc\n",
    "import statsmodels.api as sa\n",
    "import statsmodels.formula.api as sfa\n",
    "import scipy.stats as ss\n",
    "import statsmodels.api as sa\n",
    "import scikit_posthocs as sp\n",
    "\n",
    "import statsmodels\n",
    "import statsmodels.api as sm\n",
    "from statsmodels.formula.api import ols\n",
    "import statsmodels.stats.multicomp as mc\n",
    "\n",
    "Anka = pd.read_excel (r\"P:\\OSVV\\Jablana\\2020\\Polifenoli-AC-JH\\Polifenoli Anka 18022020_3.xlsx\", 0) #bere file\n",
    "\n",
    "h=Anka.columns #naredi matriko z imeniprva vrstica za imena\n",
    "Anka1 = pd.DataFrame(Anka) #pretvori obliko v pandas\n",
    "print(h)\n",
    "\n",
    "Kaj=Anka['kaj'].unique()\n",
    "print('imamo analiz iz:',Kaj)\n",
    "\n",
    "k = ['Sum of hydroxycinnamic acids',\n",
    "       'Sum of dihydrochalcones', 'Sum of flavonols', 'Sum of flavanols','cryptochlorogenic acid', 'chlorogenic acid', 'catechin', 'epicatechin',\n",
    "       'arbutin', 'neochlorogenic acid', 'Phlorizin', 'Procyanidin B1',\n",
    "       'procyanidin B2_B4', 'Quercetin_13_1Rha', 'quercetin3Glc_Gal', 'rutin',\n",
    "       'p_1coumaric acid', 'Phloretin Xylo Glc', '3_1Hydroxyphloretin',\n",
    "       '3_1hydroxy_1Phlorizin', 'cy3_1gal', \n",
    "          ]\n",
    "df = pd.DataFrame(columns=k) #ustvari prazno tabelo za podatke iz loopov\n",
    "#Ank = meso\n",
    "\n",
    "def kAj(kaj):\n",
    "    AnkaK = Anka.loc[(Anka['kaj'] == kaj)]\n",
    "    print('lok', AnkaK['lok'].unique())\n",
    "    print('skla',AnkaK['skla'].unique())\n",
    "    print('sorta',AnkaK['sorta'].unique())\n",
    "    izb=['lok', 'skla','sorta','naziv', None]\n",
    "    def izbor(X='lok', HUE='sorta'):\n",
    "        \n",
    "        def f(x):\n",
    "         ll = AnkaK[x] #da kličemo vsak stolpec\n",
    "         nn = kaj + '-'+ ll.name +'.png'# naredimo string za poimenovanje datotek\n",
    "         InLop = AnkaK.loc[(AnkaK[x] > 0)] #izbere samo tiste ki so večje od 0 - izloči besedilo\n",
    "         #m = sum(InLop[x]) / len(InLop[x]) #povprečje\n",
    "         #print(m)\n",
    "         print(len(InLop[x]))\n",
    "         yy=InLop[x]\n",
    "    ## RIŠE BOXPLOT\n",
    "         #plt.close() #zapre vsak graf od prej\n",
    "         fig, ax = plt.subplots()\n",
    "         sns.boxplot(x=X, y=yy, hue=HUE, data=InLop, ax=ax, palette=\"gray\").set_title(kaj)  #hue=\"meso\", palette=\"Set3\", \n",
    "         xOs=InLop[X] \n",
    "         Hue=InLop[HUE]        \n",
    "         plt.show() #prikaže vsak graf\n",
    "    #ANOVA\n",
    "         model1=ols('yy ~ C(xOs) + C(Hue) + C(xOs):C(Hue)', data=InLop).fit()\n",
    "         print(model1)\n",
    "         anova = sm.stats.anova_lm(model1, typ=1)\n",
    "         print(color.BOLD + 'Anova tabela za ',kaj,', kjer je xOs=\"',X,'\" in Hue=\"', HUE,'\". '   )\n",
    "         print(anova)\n",
    "         print('število podatkov v obdelavi' , len(InLop))\n",
    "    #post-hoc   \n",
    "         print('      ------POST HOC------za',x,' in naziv')         \n",
    "         pc = sp.posthoc_conover(InLop, val_col=x, group_col='naziv') #naredi post-hoc po \"conover\" metodi.\n",
    "         pc2 = sp.posthoc_tukey(InLop, val_col=x, group_col='naziv') #naredi post-hoc po \"conover\" metodi.\n",
    "    \n",
    "         pc1 = sp.posthoc_tukey_hsd(InLop[x],InLop['naziv'])\n",
    "         #pc = sp.posthoc_conover(Zid, val_col='obse', group_col='obr') #naredi posthoc preskuse\n",
    "         print(pc)\n",
    "         print(pc1)\n",
    "         print('      ------Prikaz POST HOC------za',x,' in naziv')\n",
    "         heatmap_args = {'linewidths': 0.25, 'linecolor': '0.5', 'clip_on': False, 'square': True, 'cbar_ax_bbox': [0.80, 0.35, 0.04, 0.3]}\n",
    "         #sp.sign_plot(pc, **heatmap_args) #izriše posthoc poskuse\n",
    "         print('za tukey')\n",
    "         sp.sign_plot(pc2, **heatmap_args)\n",
    "        \n",
    "         print('Slika shranjena kot:' ,nn)  # v  log izpiše ime grafa ki ga je naredil\n",
    "         fig.savefig(nn, dpi=300)  # shrani graf pod imenom \"nn\"\n",
    "         return x\n",
    "        interact(f, x=k);\n",
    "    interact(izbor, HUE=izb, X=izb);\n",
    "interact(kAj, kaj=Kaj);\n",
    "\n",
    "#dodan post-hoc"
   ]
  },
  {
   "cell_type": "code",
   "execution_count": 6,
   "metadata": {},
   "outputs": [
    {
     "ename": "NameError",
     "evalue": "name 'loss_history' is not defined",
     "output_type": "error",
     "traceback": [
      "\u001b[1;31m---------------------------------------------------------------------------\u001b[0m",
      "\u001b[1;31mNameError\u001b[0m                                 Traceback (most recent call last)",
      "\u001b[1;32m<ipython-input-6-b7e1f2479e6d>\u001b[0m in \u001b[0;36m<module>\u001b[1;34m\u001b[0m\n\u001b[0;32m      1\u001b[0m \u001b[1;31m# shraniti zapise:\u001b[0m\u001b[1;33m\u001b[0m\u001b[1;33m\u001b[0m\u001b[1;33m\u001b[0m\u001b[0m\n\u001b[0;32m      2\u001b[0m \u001b[1;32mimport\u001b[0m \u001b[0mnumpy\u001b[0m\u001b[1;33m\u001b[0m\u001b[1;33m\u001b[0m\u001b[0m\n\u001b[1;32m----> 3\u001b[1;33m \u001b[0mnumpy_loss_history\u001b[0m \u001b[1;33m=\u001b[0m \u001b[0mnumpy\u001b[0m\u001b[1;33m.\u001b[0m\u001b[0marray\u001b[0m\u001b[1;33m(\u001b[0m\u001b[0mloss_history\u001b[0m\u001b[1;33m)\u001b[0m\u001b[1;33m\u001b[0m\u001b[1;33m\u001b[0m\u001b[0m\n\u001b[0m\u001b[0;32m      4\u001b[0m \u001b[0mnumpy\u001b[0m\u001b[1;33m.\u001b[0m\u001b[0msavetxt\u001b[0m\u001b[1;33m(\u001b[0m\u001b[1;34m\"loss_history.txt\"\u001b[0m\u001b[1;33m,\u001b[0m \u001b[0mnumpy_loss_history\u001b[0m\u001b[1;33m,\u001b[0m \u001b[0mdelimiter\u001b[0m\u001b[1;33m=\u001b[0m\u001b[1;34m\",\"\u001b[0m\u001b[1;33m)\u001b[0m\u001b[1;33m\u001b[0m\u001b[1;33m\u001b[0m\u001b[0m\n",
      "\u001b[1;31mNameError\u001b[0m: name 'loss_history' is not defined"
     ]
    }
   ],
   "source": [
    "# shraniti zapise:\n",
    "import numpy\n",
    "numpy_loss_history = numpy.array(loss_history)\n",
    "numpy.savetxt(\"loss_history.txt\", numpy_loss_history, delimiter=\",\")"
   ]
  },
  {
   "cell_type": "code",
   "execution_count": 7,
   "metadata": {},
   "outputs": [
    {
     "data": {
      "text/html": [
       "<div>\n",
       "<style scoped>\n",
       "    .dataframe tbody tr th:only-of-type {\n",
       "        vertical-align: middle;\n",
       "    }\n",
       "\n",
       "    .dataframe tbody tr th {\n",
       "        vertical-align: top;\n",
       "    }\n",
       "\n",
       "    .dataframe thead th {\n",
       "        text-align: right;\n",
       "    }\n",
       "</style>\n",
       "<table border=\"1\" class=\"dataframe\">\n",
       "  <thead>\n",
       "    <tr style=\"text-align: right;\">\n",
       "      <th></th>\n",
       "      <th>a</th>\n",
       "      <th>b</th>\n",
       "      <th>c</th>\n",
       "    </tr>\n",
       "  </thead>\n",
       "  <tbody>\n",
       "    <tr>\n",
       "      <th>a</th>\n",
       "      <td>1</td>\n",
       "      <td>1</td>\n",
       "      <td>0</td>\n",
       "    </tr>\n",
       "    <tr>\n",
       "      <th>b</th>\n",
       "      <td>1</td>\n",
       "      <td>1</td>\n",
       "      <td>1</td>\n",
       "    </tr>\n",
       "    <tr>\n",
       "      <th>c</th>\n",
       "      <td>0</td>\n",
       "      <td>1</td>\n",
       "      <td>1</td>\n",
       "    </tr>\n",
       "  </tbody>\n",
       "</table>\n",
       "</div>"
      ],
      "text/plain": [
       "   a  b  c\n",
       "a  1  1  0\n",
       "b  1  1  1\n",
       "c  0  1  1"
      ]
     },
     "execution_count": 7,
     "metadata": {},
     "output_type": "execute_result"
    }
   ],
   "source": [
    "x = [[1,2,3,4,5], [35,31,75,40,21], [10,6,9,6,1]]\n",
    "g = [['a'] * 5, ['b'] * 5, ['c'] * 5]\n",
    "sp.posthoc_tukey_hsd(np.concatenate(x), np.concatenate(g))\n"
   ]
  },
  {
   "cell_type": "code",
   "execution_count": null,
   "metadata": {},
   "outputs": [],
   "source": []
  }
 ],
 "metadata": {
  "kernelspec": {
   "display_name": "Python 3",
   "language": "python",
   "name": "python3"
  },
  "language_info": {
   "codemirror_mode": {
    "name": "ipython",
    "version": 3
   },
   "file_extension": ".py",
   "mimetype": "text/x-python",
   "name": "python",
   "nbconvert_exporter": "python",
   "pygments_lexer": "ipython3",
   "version": "3.8.5"
  }
 },
 "nbformat": 4,
 "nbformat_minor": 2
}
